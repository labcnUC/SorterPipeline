{
 "cells": [
  {
   "cell_type": "code",
   "execution_count": 1,
   "id": "1a16521b-14b7-4381-9cf3-41532d427539",
   "metadata": {
    "scrolled": true
   },
   "outputs": [
    {
     "name": "stderr",
     "output_type": "stream",
     "text": [
      "17:17:45 [I] klustakwik KlustaKwik2 version 0.2.6\n"
     ]
    }
   ],
   "source": [
    "# Dependencias.\n",
    "import scipy.io\n",
    "from preprocessing_functions import read_rhd\n",
    "%matplotlib widget\n",
    "import h5py\n",
    "import os\n",
    "import pandas as pd\n",
    "import numpy as np\n",
    "import matplotlib.pyplot as plt\n",
    "import probeinterface as pi\n",
    "import spikeinterface as si\n",
    "import spikeinterface.widgets as sw\n",
    "import spikeinterface.sorters as ss\n",
    "import spikeinterface.exporters as exp\n",
    "import seaborn as sns # <- Para graficos estadisticos\n",
    "from preprocessing_functions import read_rhd, get_recording, check_concatenation, process_artifacts, espigas, sorting_analyzer, create_folders\n",
    "\n",
    "from pathlib import Path\n",
    "from spikeinterface.extractors import read_intan\n",
    "import spikeinterface.preprocessing as prep\n",
    "from probeinterface import Probe, ProbeGroup\n",
    "\n",
    "# global kwargs for parallel computing\n",
    "job_kwargs = dict(\n",
    "    n_jobs=-1,\n",
    "    chunk_duration='1s',\n",
    "    progress_bar=True,\n",
    ")\n",
    "\n",
    "si.set_global_job_kwargs(**job_kwargs)"
   ]
  },
  {
   "cell_type": "markdown",
   "id": "f4140b07-598a-453e-b6a3-b21265267b0d",
   "metadata": {},
   "source": [
    "## Lectura y Preprocesado.\n",
    "el procesado de datos se realiza de la siguiente forma:  \n",
    "```mermaid\n",
    "flowchart TD\n",
    "    A[\"Datos crudos (Raw)\"] --> B[\"Filtro pasa banda (500 - 9000Hz)\"]\n",
    "    B --> C[\"Incorporacion de electrodos y definición de grupos\"]\n",
    "    C --> D[\"Definición de canales malos\"]\n",
    "    D --> E[\"Remoción de artefactos\"]\n",
    "    E --> F[\"`Guardado en formato binario (carpeta **preprocess**)`\"]\n",
    "    \n",
    "```\n",
    "Algunas opciones comunes de group_mode en SpikeInterface incluyen:\n",
    "\n",
    "by_probe: Agrupa los canales o unidades según el probe (sonda) al que pertenecen. Esto es útil si se están utilizando varias sondas en el experimento.\n",
    "\n",
    "by_shank: Agrupa los canales según el shank (tallo) dentro de un probe. Esto se usa cuando un probe tiene múltiples shanks.\n",
    "\n",
    "by_electrode_group: Agrupa los canales por el grupo de electrodos. Esto permite analizar o procesar datos por grupos predefinidos de electrodos.\n",
    "\n",
    "by_channel: Trata cada canal por separado, sin agruparlos. Es útil cuando se quiere analizar cada canal de manera independiente.\n",
    "\n",
    "by_unit: Agrupa los datos según unidades individuales de spikes. Esto es útil cuando se quiere analizar características a nivel de unidades de spikes individuales en lugar de a nivel de canales.\n",
    "\n",
    "all: Agrupa todos los canales o unidades en un solo grupo, tratándolos como un conjunto único. Esto puede ser útil para obtener un análisis global del conjunto de datos."
   ]
  },
  {
   "cell_type": "markdown",
   "id": "79e7d9ac-459c-4825-a684-8f24302c774f",
   "metadata": {
    "editable": true,
    "slideshow": {
     "slide_type": ""
    },
    "tags": []
   },
   "source": [
    "### Defición de parametros.\n",
    ":penci2: para el ejemplo, se almacenan todos los pasos intermedios  :bowtie:"
   ]
  },
  {
   "cell_type": "code",
   "execution_count": 14,
   "id": "9e700759-04d5-4a54-a8d1-e2a2609f41fa",
   "metadata": {},
   "outputs": [],
   "source": [
    "# Nombre base de experimento, se crearán carpetas y archivos con este nombre.\n",
    "base_name = 'PF11_day02'\n",
    "artifact_maze = \"selected_\"\n",
    "artifact_sleep = 'selected_'\n",
    "# Archivo de configuración del probegroup, existente en la carpeta \"probes\"\n",
    "probegroup_file = 'probes/anillo_probe.json'\n",
    "\n",
    "# Configuración de carpetas de procesamiento\n",
    "preprocess_folder = Path('preprocess/',base_name)\n",
    "\n",
    "# Archivos de Excel para la información de registros\n",
    "# como inicio se recomienda solo poner un dia en el excel de información de archivos, este es el punto de inicio para hacer una maquina de salchichas para todos los días del animal\n",
    "folder_maze = Path(r'D:\\ephys\\PF11\\Maze\\Day02')\n",
    "folder_sleep = Path(r'D:\\ephys\\PF11\\Sleep\\Day02')"
   ]
  },
  {
   "cell_type": "code",
   "execution_count": 15,
   "id": "92ff5fcb-ac0f-4eed-b5e7-874c50813815",
   "metadata": {},
   "outputs": [
    {
     "name": "stdout",
     "output_type": "stream",
     "text": [
      "Archivo de probegroup utilizado: probes/anillo_probe.json\n",
      "Procesado 1 archivo .rhd: PF11_Maze_Day02_240508_125024.rhd\n",
      "Grabación leída con 39817344 muestras y duración total de 1990.8672 segundos. Frecuencia de muestreo calculada: 20000 Hz.\n",
      "Ruta del archivo LAN: D:\\ephys\\PF11\\Maze\\Day02\\LAN_PF11_Maze_Day02_240508_125024_500.mat\n",
      "Dataset encontrado: selected_CA1v_CA1d_RSC_PFC_1_8_10_13\n",
      "Filtro pasa banda aplicado: 500-9000 Hz.\n",
      "Probegroup configurado para la grabación.\n",
      "Artefactos removidos. Triggers utilizados: [     360     2360     4360 ... 39660120 39662120 39664120]\n",
      "Procesamiento de archivo completado.\n",
      "Archivo de probegroup utilizado: probes/anillo_probe.json\n",
      "Procesado 1 archivo .rhd: PF11_Sleep_Day02_240508_134502.rhd\n",
      "Grabación leída con 86614784 muestras y duración total de 4330.7392 segundos. Frecuencia de muestreo calculada: 20000 Hz.\n",
      "Ruta del archivo LAN: D:\\ephys\\PF11\\Sleep\\Day02\\LAN_PF11_Sleep_Day02_240508_134502_500.mat\n",
      "Dataset encontrado: selected_CA1v_CA1d_RSC_PFC_1_8_10_13\n",
      "Filtro pasa banda aplicado: 500-9000 Hz.\n",
      "Probegroup configurado para la grabación.\n",
      "Artefactos removidos. Triggers utilizados: [ 3022760  3024760  3026760  3028760  3030760  3032760  3034760  3036760\n",
      "  3304880  3306880  3308880  3310880  3312880  3314880  3316880  3318880\n",
      "  3320880  3322880  4385680  4387680  4389680  4391680  4393680  4395680\n",
      "  4397680  4406960  4408960  4410960  4412960  4414960  4416960  4418960\n",
      "  4420960  4488040  4490040  4492040  4494040  4496040  4498040  4500040\n",
      " 12659280 12661280 12663280 12665280 12667280 12669280 12671280 12673280\n",
      " 12675280 12677280 12679280 12681280 12683280 25346880 25348880 25350880\n",
      " 25352880 25354880 25356880 25358880 25360880 25362880 25364880 25366880\n",
      " 25368880 25370880 25372880 25374880 25376880 25378880 25380880 25382880\n",
      " 25384880 25386880 25388880 25390880 25392880 37661640 37663640 37665640\n",
      " 37667640 37669640 37671640 37673640 37675640 37677640 37679640 37681640\n",
      " 37683640 37685640 37687640 37689640 37691640 37693640 37695640 37697640\n",
      " 37699640 37701640 37703640 37705640 37707640 37709640 37711640 37713640\n",
      " 37715640 37717640 37719640 37721640 37723640 37725640 37727640 37729640\n",
      " 37731640 37733640 37735640 37737640 37739640 37741640 37743640 37745640\n",
      " 37747640 37749640 37751640 37753640 37755640 37757640 37759640 37761640\n",
      " 37763640 37765640 37767640 37769640 37771640 37773640 37775640 37777640\n",
      " 37779640 37781640 37783640 37785640 37787640 37789640 37791640 37793640\n",
      " 37795640 37797640 37799640 37801640 37803640 37805640 37807640 37809640\n",
      " 37811640 37813640 37815640 37817640 37819640 37821640 37823640 37825640\n",
      " 37827640 37829640 37831640 37833640 37835640 37837640 37839640 37841640\n",
      " 37843640 37845640 37847640 37849640 37851640 37853640 37855640 37857640\n",
      " 37859640 37861640 37863640 37865640 37867640 37869640 37871640 37873640\n",
      " 37875640 37877640 37879640 37881640 37883640 37885640 37887640 37889640\n",
      " 37891640 37893640 37895640 37897640 37899640 37901640 37903640 37905640\n",
      " 37907640 37909640 37911640 37913640 39330480 39332480 39334480 39336480\n",
      " 39338480 39340480 39342480 39344480 39346480 39348480 39350480 39352480\n",
      " 39354480 39356480 39358480 39360480 39362480 39364480 39366480 39368480\n",
      " 39370480 39372480 39374480 39376480 39378480 39380480 39382480 39384480\n",
      " 39386480 39388480 39390480 39392480 39394480 39396480 39398480 39400480\n",
      " 39402480 39404480 39406480 39408480 39410480 39412480 39414480 39416480\n",
      " 39418480 39420480 39422480 39424480 39426480 39428480 39430480 39432480\n",
      " 39434480 39436480 39438480 40035440 40037440 40039440 40041440 40043440\n",
      " 40045440 40047440 40049440 40051440 40053440 40055440 40057440 40059440\n",
      " 40061440 40063440 40065440 40067440 40069440 40071440 40073440 40075440\n",
      " 40077440 40079440 40081440 40083440 40085440 40087440 40089440 40091440\n",
      " 40093440 40095440 40097440 40099440 40101440 40103440 40105440 40107440\n",
      " 40109440 40111440 40180360 40182360 40184360 40186360 40188360 40190360\n",
      " 40192360 40194360 40196360 40198360 40200360 40202360 40204360 40206360\n",
      " 40208360 40210360 40212360 40214360 40216360 40218360 40220360 40222360\n",
      " 40224360 40226360 40228360 40230360 40232360 40234360 40236360 40238360\n",
      " 40240360 40242360 40244360 40246360 40248360 40476480 40478480 40480480\n",
      " 40482480 40484480 40486480 40488480 40490480 40492480 40494480 40496480\n",
      " 40498480 40500480 40502480 40504480 40506480 40508480 40510480 40512480\n",
      " 40514480 40516480 40518480 40520480 40522480 40524480 40526480 40528480\n",
      " 40530480 40532480 40534480 40536480 40538480 40540480 40542480 40544480\n",
      " 40546480 40548480 40550480 40552480 40554480 40556480 40558480 40560480\n",
      " 40562480 40564480 40566480 68436480 68438480 68440480 68442480 68444480\n",
      " 68446480 68448480 68450480 68452480 68454480 68456480 68458480 85755720\n",
      " 85757720 85759720 85761720 85763720 85765720 85767720]\n",
      "Procesamiento de archivo completado.\n",
      "Registros de Maze y Sueño concatenados exitosamente.\n"
     ]
    }
   ],
   "source": [
    "# Definir carpetas de sorting.\n",
    "# Single sorting\n",
    "sorter_folder, analyzer_folder, phy_output_folder = create_folders(base_name)\n",
    "# Group sorting\n",
    "group_sorter_folder, group_analyzer_folder, group_phy_output_folder = create_folders(base_name, group=True)\n",
    "\n",
    "# Procesar archivos\n",
    "record_maze = get_recording(folder_maze, artifact_maze, probegroup_file)\n",
    "record_sleep = get_recording(folder_sleep, artifact_sleep, probegroup_file)\n",
    "recording = check_concatenation(record_maze, record_sleep)"
   ]
  },
  {
   "cell_type": "markdown",
   "id": "ea9b4c41-9562-4cd9-af7e-e714c0f37931",
   "metadata": {},
   "source": [
    "### Inspeccion de los resultados.\n",
    "Revise:\n",
    "Se haya realizado el procedimiento de concatenado.\n",
    "Se removieron los artefactos.\n",
    "Nombres de los canales.\n",
    "\n",
    "importante: Con el fin de mejorar la visualización, los datos no estan escalados. Para presentarlos escalados (uV) defina return_scaled=True"
   ]
  },
  {
   "cell_type": "code",
   "execution_count": 16,
   "id": "3fe4dda9-ffe2-4489-a77c-bc39b72c87df",
   "metadata": {
    "scrolled": true
   },
   "outputs": [
    {
     "name": "stderr",
     "output_type": "stream",
     "text": [
      "c:\\ProgramData\\anaconda3\\envs\\sorter\\Lib\\site-packages\\ephyviewer\\traceviewer.py:206: RuntimeWarning: divide by zero encountered in divide\n",
      "  gains[self.visible_channels] = np.ones(nb_visible, dtype=float) / self.signals_mad[self.visible_channels] * self.viewer.params['auto_scale_factor']\n",
      "c:\\ProgramData\\anaconda3\\envs\\sorter\\Lib\\site-packages\\ephyviewer\\traceviewer.py:207: RuntimeWarning: invalid value encountered in multiply\n",
      "  offsets[self.visible_channels] = np.arange(nb_visible)[::-1] - self.signals_med[self.visible_channels]*gains[self.visible_channels]\n",
      "c:\\ProgramData\\anaconda3\\envs\\sorter\\Lib\\site-packages\\ephyviewer\\traceviewer.py:140: RuntimeWarning: invalid value encountered in multiply\n",
      "  return (self.raw_offsets * self.gains) + self.offsets\n",
      "c:\\ProgramData\\anaconda3\\envs\\sorter\\Lib\\site-packages\\ephyviewer\\traceviewer.py:605: RuntimeWarning: invalid value encountered in scalar multiply\n",
      "  self.channel_labels[c].setPos(t_start, offsets[c] + signals_med[c]*gains[c])\n",
      "c:\\ProgramData\\anaconda3\\envs\\sorter\\Lib\\site-packages\\ephyviewer\\traceviewer.py:605: RuntimeWarning: invalid value encountered in scalar multiply\n",
      "  self.channel_labels[c].setPos(t_start, offsets[c] + signals_med[c]*gains[c])\n",
      "c:\\ProgramData\\anaconda3\\envs\\sorter\\Lib\\site-packages\\ephyviewer\\traceviewer.py:332: RuntimeWarning: invalid value encountered in multiply\n",
      "  data_curves *= total_gains[visibles, None]\n",
      "c:\\ProgramData\\anaconda3\\envs\\sorter\\Lib\\site-packages\\ephyviewer\\traceviewer.py:605: RuntimeWarning: invalid value encountered in scalar multiply\n",
      "  self.channel_labels[c].setPos(t_start, offsets[c] + signals_med[c]*gains[c])\n",
      "c:\\ProgramData\\anaconda3\\envs\\sorter\\Lib\\site-packages\\ephyviewer\\traceviewer.py:332: RuntimeWarning: invalid value encountered in multiply\n",
      "  data_curves *= total_gains[visibles, None]\n",
      "c:\\ProgramData\\anaconda3\\envs\\sorter\\Lib\\site-packages\\ephyviewer\\traceviewer.py:605: RuntimeWarning: invalid value encountered in scalar multiply\n",
      "  self.channel_labels[c].setPos(t_start, offsets[c] + signals_med[c]*gains[c])\n",
      "c:\\ProgramData\\anaconda3\\envs\\sorter\\Lib\\site-packages\\ephyviewer\\traceviewer.py:248: RuntimeWarning: invalid value encountered in multiply\n",
      "  self.offsets = self.offsets + self.signals_med*self.gains * (1-factor_ratio)\n",
      "c:\\ProgramData\\anaconda3\\envs\\sorter\\Lib\\site-packages\\ephyviewer\\traceviewer.py:140: RuntimeWarning: invalid value encountered in multiply\n",
      "  return (self.raw_offsets * self.gains) + self.offsets\n",
      "c:\\ProgramData\\anaconda3\\envs\\sorter\\Lib\\site-packages\\ephyviewer\\traceviewer.py:332: RuntimeWarning: invalid value encountered in multiply\n",
      "  data_curves *= total_gains[visibles, None]\n",
      "c:\\ProgramData\\anaconda3\\envs\\sorter\\Lib\\site-packages\\ephyviewer\\traceviewer.py:605: RuntimeWarning: invalid value encountered in scalar multiply\n",
      "  self.channel_labels[c].setPos(t_start, offsets[c] + signals_med[c]*gains[c])\n",
      "c:\\ProgramData\\anaconda3\\envs\\sorter\\Lib\\site-packages\\ephyviewer\\traceviewer.py:248: RuntimeWarning: invalid value encountered in multiply\n",
      "  self.offsets = self.offsets + self.signals_med*self.gains * (1-factor_ratio)\n",
      "c:\\ProgramData\\anaconda3\\envs\\sorter\\Lib\\site-packages\\ephyviewer\\traceviewer.py:140: RuntimeWarning: invalid value encountered in multiply\n",
      "  return (self.raw_offsets * self.gains) + self.offsets\n",
      "c:\\ProgramData\\anaconda3\\envs\\sorter\\Lib\\site-packages\\ephyviewer\\traceviewer.py:332: RuntimeWarning: invalid value encountered in multiply\n",
      "  data_curves *= total_gains[visibles, None]\n",
      "c:\\ProgramData\\anaconda3\\envs\\sorter\\Lib\\site-packages\\ephyviewer\\traceviewer.py:605: RuntimeWarning: invalid value encountered in scalar multiply\n",
      "  self.channel_labels[c].setPos(t_start, offsets[c] + signals_med[c]*gains[c])\n",
      "c:\\ProgramData\\anaconda3\\envs\\sorter\\Lib\\site-packages\\ephyviewer\\traceviewer.py:248: RuntimeWarning: invalid value encountered in multiply\n",
      "  self.offsets = self.offsets + self.signals_med*self.gains * (1-factor_ratio)\n",
      "c:\\ProgramData\\anaconda3\\envs\\sorter\\Lib\\site-packages\\ephyviewer\\traceviewer.py:140: RuntimeWarning: invalid value encountered in multiply\n",
      "  return (self.raw_offsets * self.gains) + self.offsets\n",
      "c:\\ProgramData\\anaconda3\\envs\\sorter\\Lib\\site-packages\\ephyviewer\\traceviewer.py:332: RuntimeWarning: invalid value encountered in multiply\n",
      "  data_curves *= total_gains[visibles, None]\n",
      "c:\\ProgramData\\anaconda3\\envs\\sorter\\Lib\\site-packages\\ephyviewer\\traceviewer.py:605: RuntimeWarning: invalid value encountered in scalar multiply\n",
      "  self.channel_labels[c].setPos(t_start, offsets[c] + signals_med[c]*gains[c])\n",
      "c:\\ProgramData\\anaconda3\\envs\\sorter\\Lib\\site-packages\\ephyviewer\\traceviewer.py:332: RuntimeWarning: invalid value encountered in multiply\n",
      "  data_curves *= total_gains[visibles, None]\n",
      "c:\\ProgramData\\anaconda3\\envs\\sorter\\Lib\\site-packages\\ephyviewer\\traceviewer.py:605: RuntimeWarning: invalid value encountered in scalar multiply\n",
      "  self.channel_labels[c].setPos(t_start, offsets[c] + signals_med[c]*gains[c])\n",
      "c:\\ProgramData\\anaconda3\\envs\\sorter\\Lib\\site-packages\\ephyviewer\\traceviewer.py:248: RuntimeWarning: invalid value encountered in multiply\n",
      "  self.offsets = self.offsets + self.signals_med*self.gains * (1-factor_ratio)\n",
      "c:\\ProgramData\\anaconda3\\envs\\sorter\\Lib\\site-packages\\ephyviewer\\traceviewer.py:140: RuntimeWarning: invalid value encountered in multiply\n",
      "  return (self.raw_offsets * self.gains) + self.offsets\n",
      "c:\\ProgramData\\anaconda3\\envs\\sorter\\Lib\\site-packages\\ephyviewer\\traceviewer.py:332: RuntimeWarning: invalid value encountered in multiply\n",
      "  data_curves *= total_gains[visibles, None]\n",
      "c:\\ProgramData\\anaconda3\\envs\\sorter\\Lib\\site-packages\\ephyviewer\\traceviewer.py:605: RuntimeWarning: invalid value encountered in scalar multiply\n",
      "  self.channel_labels[c].setPos(t_start, offsets[c] + signals_med[c]*gains[c])\n",
      "c:\\ProgramData\\anaconda3\\envs\\sorter\\Lib\\site-packages\\ephyviewer\\traceviewer.py:140: RuntimeWarning: invalid value encountered in multiply\n",
      "  return (self.raw_offsets * self.gains) + self.offsets\n",
      "c:\\ProgramData\\anaconda3\\envs\\sorter\\Lib\\site-packages\\ephyviewer\\traceviewer.py:332: RuntimeWarning: invalid value encountered in multiply\n",
      "  data_curves *= total_gains[visibles, None]\n",
      "c:\\ProgramData\\anaconda3\\envs\\sorter\\Lib\\site-packages\\ephyviewer\\traceviewer.py:605: RuntimeWarning: invalid value encountered in scalar multiply\n",
      "  self.channel_labels[c].setPos(t_start, offsets[c] + signals_med[c]*gains[c])\n",
      "c:\\ProgramData\\anaconda3\\envs\\sorter\\Lib\\site-packages\\ephyviewer\\traceviewer.py:140: RuntimeWarning: invalid value encountered in multiply\n",
      "  return (self.raw_offsets * self.gains) + self.offsets\n",
      "c:\\ProgramData\\anaconda3\\envs\\sorter\\Lib\\site-packages\\ephyviewer\\traceviewer.py:332: RuntimeWarning: invalid value encountered in multiply\n",
      "  data_curves *= total_gains[visibles, None]\n",
      "c:\\ProgramData\\anaconda3\\envs\\sorter\\Lib\\site-packages\\ephyviewer\\traceviewer.py:605: RuntimeWarning: invalid value encountered in scalar multiply\n",
      "  self.channel_labels[c].setPos(t_start, offsets[c] + signals_med[c]*gains[c])\n",
      "c:\\ProgramData\\anaconda3\\envs\\sorter\\Lib\\site-packages\\ephyviewer\\traceviewer.py:140: RuntimeWarning: invalid value encountered in multiply\n",
      "  return (self.raw_offsets * self.gains) + self.offsets\n",
      "c:\\ProgramData\\anaconda3\\envs\\sorter\\Lib\\site-packages\\ephyviewer\\traceviewer.py:332: RuntimeWarning: invalid value encountered in multiply\n",
      "  data_curves *= total_gains[visibles, None]\n",
      "c:\\ProgramData\\anaconda3\\envs\\sorter\\Lib\\site-packages\\ephyviewer\\traceviewer.py:605: RuntimeWarning: invalid value encountered in scalar multiply\n",
      "  self.channel_labels[c].setPos(t_start, offsets[c] + signals_med[c]*gains[c])\n",
      "c:\\ProgramData\\anaconda3\\envs\\sorter\\Lib\\site-packages\\ephyviewer\\traceviewer.py:140: RuntimeWarning: invalid value encountered in multiply\n",
      "  return (self.raw_offsets * self.gains) + self.offsets\n",
      "c:\\ProgramData\\anaconda3\\envs\\sorter\\Lib\\site-packages\\ephyviewer\\traceviewer.py:332: RuntimeWarning: invalid value encountered in multiply\n",
      "  data_curves *= total_gains[visibles, None]\n",
      "c:\\ProgramData\\anaconda3\\envs\\sorter\\Lib\\site-packages\\ephyviewer\\traceviewer.py:605: RuntimeWarning: invalid value encountered in scalar multiply\n",
      "  self.channel_labels[c].setPos(t_start, offsets[c] + signals_med[c]*gains[c])\n"
     ]
    },
    {
     "data": {
      "text/html": [
       "<div style='border:1px solid #ddd; padding:10px;'><strong>ConcatenateSegmentRecording: 16 channels - 20.0kHz - 1 segments - 126,432,128 samples - 6,321.61s (1.76 hours) - int16 dtype - 3.77 GiB</strong></div><details style='margin-left: 10px;'>  <summary><strong>Channel IDs</strong></summary><ul>['A-008' 'A-009' 'A-010' 'A-011' 'A-012' 'A-013' 'A-014' 'A-015' 'A-016'\n",
       " 'A-017' 'A-018' 'A-019' 'A-020' 'A-021' 'A-022' 'A-023'] </details><details style='margin-left: 10px;'>  <summary><strong>Annotations</strong></summary><ul><li> <strong> is_filtered </strong>: True</li><li> <strong> name </strong>: None</li><li> <strong> probe_0_planar_contour </strong>: [[ -20.   80.]\n",
       " [ -20.  -20.]\n",
       " [   0. -100.]\n",
       " [  20.  -20.]\n",
       " [  20.   80.]]</li><li> <strong> probe_1_planar_contour </strong>: [[ 980.   80.]\n",
       " [ 980.  -20.]\n",
       " [1000. -100.]\n",
       " [1020.  -20.]\n",
       " [1020.   80.]]</li><li> <strong> probe_2_planar_contour </strong>: [[1980.   80.]\n",
       " [1980.  -20.]\n",
       " [2000. -100.]\n",
       " [2020.  -20.]\n",
       " [2020.   80.]]</li><li> <strong> probe_3_planar_contour </strong>: [[2980.   80.]\n",
       " [2980.  -20.]\n",
       " [3000. -100.]\n",
       " [3020.  -20.]\n",
       " [3020.   80.]]</li></ul> </details><details style='margin-left: 10px;'><summary><strong>Channel Properties</strong></summary><ul><details><summary> <strong> gain_to_uV </strong> </summary>[0.195 0.195 0.195 0.195 0.195 0.195 0.195 0.195 0.195 0.195 0.195 0.195\n",
       " 0.195 0.195 0.195 0.195]</details><details><summary> <strong> offset_to_uV </strong> </summary>[0 0 0 0 0 0 0 0 0 0 0 0 0 0 0 0]</details><details><summary> <strong> channel_names </strong> </summary>['A-008' 'A-009' 'A-010' 'A-011' 'A-012' 'A-013' 'A-014' 'A-015' 'A-016'\n",
       " 'A-017' 'A-018' 'A-019' 'A-020' 'A-021' 'A-022' 'A-023']</details><details><summary> <strong> contact_vector </strong> </summary>[(0,    0.,  0., 'circle', 5., '', '',  0, 'um', 1., 0., 0., 1.)\n",
       " (0,    0., 20., 'circle', 5., '', '',  1, 'um', 1., 0., 0., 1.)\n",
       " (0,    0., 40., 'circle', 5., '', '',  2, 'um', 1., 0., 0., 1.)\n",
       " (0,    0., 60., 'circle', 5., '', '',  3, 'um', 1., 0., 0., 1.)\n",
       " (1, 1000.,  0., 'circle', 5., '', '',  4, 'um', 1., 0., 0., 1.)\n",
       " (1, 1000., 20., 'circle', 5., '', '',  5, 'um', 1., 0., 0., 1.)\n",
       " (1, 1000., 40., 'circle', 5., '', '',  6, 'um', 1., 0., 0., 1.)\n",
       " (1, 1000., 60., 'circle', 5., '', '',  7, 'um', 1., 0., 0., 1.)\n",
       " (2, 2000.,  0., 'circle', 5., '', '',  8, 'um', 1., 0., 0., 1.)\n",
       " (2, 2000., 20., 'circle', 5., '', '',  9, 'um', 1., 0., 0., 1.)\n",
       " (2, 2000., 40., 'circle', 5., '', '', 10, 'um', 1., 0., 0., 1.)\n",
       " (2, 2000., 60., 'circle', 5., '', '', 11, 'um', 1., 0., 0., 1.)\n",
       " (3, 3000.,  0., 'circle', 5., '', '', 12, 'um', 1., 0., 0., 1.)\n",
       " (3, 3000., 20., 'circle', 5., '', '', 13, 'um', 1., 0., 0., 1.)\n",
       " (3, 3000., 40., 'circle', 5., '', '', 14, 'um', 1., 0., 0., 1.)\n",
       " (3, 3000., 60., 'circle', 5., '', '', 15, 'um', 1., 0., 0., 1.)]</details><details><summary> <strong> location </strong> </summary>[[   0.    0.]\n",
       " [   0.   20.]\n",
       " [   0.   40.]\n",
       " [   0.   60.]\n",
       " [1000.    0.]\n",
       " [1000.   20.]\n",
       " [1000.   40.]\n",
       " [1000.   60.]\n",
       " [2000.    0.]\n",
       " [2000.   20.]\n",
       " [2000.   40.]\n",
       " [2000.   60.]\n",
       " [3000.    0.]\n",
       " [3000.   20.]\n",
       " [3000.   40.]\n",
       " [3000.   60.]]</details><details><summary> <strong> group </strong> </summary>[0 0 0 0 1 1 1 1 2 2 2 2 3 3 3 3]</details></ul></details>"
      ],
      "text/plain": [
       "ConcatenateSegmentRecording: 16 channels - 20.0kHz - 1 segments - 126,432,128 samples \n",
       "                             6,321.61s (1.76 hours) - int16 dtype - 3.77 GiB"
      ]
     },
     "execution_count": 16,
     "metadata": {},
     "output_type": "execute_result"
    }
   ],
   "source": [
    "# plot and check spikes\n",
    "mode = \"line\"\n",
    "w = sw.plot_traces(recording=recording,  \n",
    "                   mode=mode, time_range=(0, 105), color_groups=True, return_scaled=False,\n",
    "                  show_channel_ids=True, order_channel_by_depth=False, backend=\"ephyviewer\")\n",
    "\n",
    "recording"
   ]
  },
  {
   "cell_type": "markdown",
   "id": "9bb98aae-9c2f-4826-b140-93c451c02e06",
   "metadata": {},
   "source": [
    "### Eliminacion de canales.\n",
    "indique los canales a eliminar, para ello utilice el nombre (\"Channel ID\") que se le da en Intan. Observe el ejemplo.\n",
    "Confirme que se haya realizado la eliminación ejecutando la celda anterior."
   ]
  },
  {
   "cell_type": "code",
   "execution_count": 17,
   "id": "8502da2c-dd2d-4e7a-9574-9d1f1f18f1bc",
   "metadata": {},
   "outputs": [],
   "source": [
    "bad_channels =[\"A-019\", \"A-023\"]\n",
    "recording=recording.remove_channels(bad_channels)"
   ]
  },
  {
   "cell_type": "markdown",
   "id": "4f5a2412-8fde-4881-be0e-175d12bda873",
   "metadata": {},
   "source": [
    "### Guardar archivos preprocesados\n",
    "Guardar archivos preprocesados como binarios."
   ]
  },
  {
   "cell_type": "markdown",
   "id": "84dc9569-c570-4dcb-b715-67e97712f065",
   "metadata": {},
   "source": [
    "#### Guardar el registro completo"
   ]
  },
  {
   "cell_type": "code",
   "execution_count": null,
   "id": "75e2ede9-d6ef-4477-9553-cba613fd6fa0",
   "metadata": {},
   "outputs": [],
   "source": [
    "recording.save(folder=preprocess_folder, overwrite=True, **job_kwargs)\n",
    "    # rec_artifacts.save(folder=preprocess_artifacts, **job_kwargs) # ejercicio para guardar registro sin la eliminaciòn de artefactos."
   ]
  },
  {
   "cell_type": "markdown",
   "id": "cf93af84-d1e6-4a13-aed0-59f59f771406",
   "metadata": {},
   "source": [
    "#### Guardar un segmento del registro"
   ]
  },
  {
   "cell_type": "code",
   "execution_count": null,
   "id": "a338f139-2612-4936-ae1c-2702fd8031b1",
   "metadata": {},
   "outputs": [],
   "source": [
    "sliced_rec=recording.time_slice(start_time=0, end_time=2000)\n",
    "sliced_rec.save(format='binary', folder=Path('preprocess/slic3d'), overwrite=True, **job_kwargs)"
   ]
  },
  {
   "cell_type": "markdown",
   "id": "42fc8a15-6918-4408-9e5f-0386978bf96b",
   "metadata": {},
   "source": [
    "#### Leer el registro guardado"
   ]
  },
  {
   "cell_type": "code",
   "execution_count": null,
   "id": "b962549a-ae2b-4900-9b3e-202a30b952af",
   "metadata": {},
   "outputs": [],
   "source": [
    "recording = si.load_extractor(preprocess_folder)"
   ]
  },
  {
   "cell_type": "markdown",
   "id": "c99687fb-cd6a-497c-8cf7-deef7970e281",
   "metadata": {},
   "source": [
    "## Ejecutar un sorter\n",
    "ejecutar Kilosort\n",
    "\n",
    "### revisar parametros de entrada (configuracion)\n",
    "parametros especificos para kilosort (pasables por kwargs):  \n",
    "https://kilosort.readthedocs.io/en/latest/parameters.html  \n",
    "https://github.com/MouseLand/Kilosort/blob/main/kilosort/parameters.py"
   ]
  },
  {
   "cell_type": "code",
   "execution_count": 18,
   "id": "00e7c619-a581-47a0-a82e-b4e13ffb0333",
   "metadata": {},
   "outputs": [
    {
     "data": {
      "text/plain": [
       "{'batch_size': 60000,\n",
       " 'nblocks': 1,\n",
       " 'Th_universal': 9,\n",
       " 'Th_learned': 8,\n",
       " 'do_CAR': True,\n",
       " 'invert_sign': False,\n",
       " 'nt': 61,\n",
       " 'shift': None,\n",
       " 'scale': None,\n",
       " 'artifact_threshold': None,\n",
       " 'nskip': 25,\n",
       " 'whitening_range': 32,\n",
       " 'highpass_cutoff': 300,\n",
       " 'binning_depth': 5,\n",
       " 'sig_interp': 20,\n",
       " 'drift_smoothing': [0.5, 0.5, 0.5],\n",
       " 'nt0min': None,\n",
       " 'dmin': None,\n",
       " 'dminx': 32,\n",
       " 'min_template_size': 10,\n",
       " 'template_sizes': 5,\n",
       " 'nearest_chans': 10,\n",
       " 'nearest_templates': 100,\n",
       " 'max_channel_distance': None,\n",
       " 'templates_from_data': True,\n",
       " 'n_templates': 6,\n",
       " 'n_pcs': 6,\n",
       " 'Th_single_ch': 6,\n",
       " 'acg_threshold': 0.2,\n",
       " 'ccg_threshold': 0.25,\n",
       " 'cluster_downsampling': 20,\n",
       " 'cluster_pcs': 64,\n",
       " 'x_centers': None,\n",
       " 'duplicate_spike_ms': 0.25,\n",
       " 'scaleproc': None,\n",
       " 'save_preprocessed_copy': False,\n",
       " 'torch_device': 'auto',\n",
       " 'bad_channels': None,\n",
       " 'clear_cache': False,\n",
       " 'save_extra_vars': False,\n",
       " 'do_correction': True,\n",
       " 'keep_good_only': False,\n",
       " 'skip_kilosort_preprocessing': False,\n",
       " 'use_binary_file': None,\n",
       " 'delete_recording_dat': True}"
      ]
     },
     "execution_count": 18,
     "metadata": {},
     "output_type": "execute_result"
    }
   ],
   "source": [
    "# limpiar la memoria de torch antes de procesar el sorter.\n",
    "import torch\n",
    "torch.cuda.empty_cache()\n",
    "\n",
    "ss.get_default_sorter_params('kilosort4')"
   ]
  },
  {
   "cell_type": "markdown",
   "id": "a20fcc41-2af7-47e2-a96b-6639d6d307e4",
   "metadata": {},
   "source": [
    "## Kilosort 4"
   ]
  },
  {
   "cell_type": "code",
   "execution_count": 20,
   "id": "968ba2aa-d35c-4f67-9798-5e4f07c85f43",
   "metadata": {},
   "outputs": [],
   "source": [
    "params_kilosort4 = {## MAIN_PARAMETERS \n",
    "                    'batch_size': 60000,\n",
    "                    'nblocks': 0,\n",
    "                    'Th_universal': 7,\n",
    "                    'Th_learned': 6,\n",
    "                    ## Preprocessing\n",
    "                    #'artifact_threshold': 1000,\n",
    "                    ## SPIKE DETECTION\n",
    "                    'min_template_size': 10,\n",
    "                    'template_sizes':5,\n",
    "                    'nearest_chans': 4,\n",
    "                    'nearest_templates': 15,\n",
    "                    'max_channel_distance': 60,\n",
    "                    'templates_from_data': True,   \n",
    "                    'n_pcs':10,\n",
    "                    'Th_single_ch': 4,\n",
    "                    ## Clustering\n",
    "                        #'acg_threshold':0.15,\n",
    "                        #'cluster_downsampling':10,\n",
    "                    ## extras\n",
    "                        #'binning_depth':4,\n",
    "                        #'drift_smoothing':[0.3, 0.3, 0.3],\n",
    "                    'skip_kilosort_preprocessing': False,} # se crea un diccionario donde se pueden pasar las variables modificadas al sorter."
   ]
  },
  {
   "cell_type": "markdown",
   "id": "40df9d7e-f433-4a3b-a33e-08abfbc2acf2",
   "metadata": {},
   "source": [
    "### Sorting en bulto"
   ]
  },
  {
   "cell_type": "code",
   "execution_count": 21,
   "id": "a22ef0bf-4e5f-49ab-96b7-9b442dfb8e59",
   "metadata": {},
   "outputs": [
    {
     "name": "stderr",
     "output_type": "stream",
     "text": [
      "100%|██████████| 2108/2108 [02:32<00:00, 13.84it/s]\n",
      "100%|██████████| 2/2 [00:16<00:00,  8.13s/it]\n",
      "100%|██████████| 2108/2108 [02:42<00:00, 12.99it/s]\n",
      "100%|██████████| 2/2 [01:05<00:00, 32.95s/it]\n"
     ]
    },
    {
     "name": "stdout",
     "output_type": "stream",
     "text": [
      "kilosort4 run time 418.96s\n"
     ]
    }
   ],
   "source": [
    "sorter = ss.run_sorter(\n",
    "                sorter_name='kilosort4',\n",
    "                recording = recording,\n",
    "                verbose=True,\n",
    "                folder = sorter_folder,\n",
    "                remove_existing_folder=True,  ## CUIDADO, SOBREESCRIBE LOS DATOS EN CASO DE HABER UNA CARPETA, PARA DESHABILITAR PONER =FALSE\n",
    "                **params_kilosort4)"
   ]
  },
  {
   "cell_type": "code",
   "execution_count": 11,
   "id": "5e63eaa8",
   "metadata": {},
   "outputs": [
    {
     "name": "stdout",
     "output_type": "stream",
     "text": [
      "Número total de clusters: 31\n",
      "Número total de espigas: 550603\n"
     ]
    }
   ],
   "source": [
    "num_clusters, total_spikes= espigas(sorter)\n",
    "print(f\"Número total de clusters: {num_clusters}\")\n",
    "print(f\"Número total de espigas: {total_spikes}\")"
   ]
  },
  {
   "cell_type": "code",
   "execution_count": 12,
   "id": "29d750c6",
   "metadata": {},
   "outputs": [
    {
     "data": {
      "application/vnd.jupyter.widget-view+json": {
       "model_id": "a6d7f31e04a44aa4b23adfbf0850c752",
       "version_major": 2,
       "version_minor": 0
      },
      "text/plain": [
       "estimate_sparsity:   0%|          | 0/5656 [00:00<?, ?it/s]"
      ]
     },
     "metadata": {},
     "output_type": "display_data"
    },
    {
     "data": {
      "application/vnd.jupyter.widget-view+json": {
       "model_id": "613f04b959a64eabb422199da21590e9",
       "version_major": 2,
       "version_minor": 0
      },
      "text/plain": [
       "compute_waveforms:   0%|          | 0/5656 [00:00<?, ?it/s]"
      ]
     },
     "metadata": {},
     "output_type": "display_data"
    },
    {
     "data": {
      "application/vnd.jupyter.widget-view+json": {
       "model_id": "5f7da055c662444fa0f953d93ef87b6f",
       "version_major": 2,
       "version_minor": 0
      },
      "text/plain": [
       "Fitting PCA:   0%|          | 0/31 [00:00<?, ?it/s]"
      ]
     },
     "metadata": {},
     "output_type": "display_data"
    },
    {
     "data": {
      "application/vnd.jupyter.widget-view+json": {
       "model_id": "c6849a2389904de2b609551a991cce8a",
       "version_major": 2,
       "version_minor": 0
      },
      "text/plain": [
       "Projecting waveforms:   0%|          | 0/31 [00:00<?, ?it/s]"
      ]
     },
     "metadata": {},
     "output_type": "display_data"
    },
    {
     "data": {
      "application/vnd.jupyter.widget-view+json": {
       "model_id": "02a6d49df04d40b0af6e14625e2a89f6",
       "version_major": 2,
       "version_minor": 0
      },
      "text/plain": [
       "Compute : spike_amplitudes:   0%|          | 0/5656 [00:00<?, ?it/s]"
      ]
     },
     "metadata": {},
     "output_type": "display_data"
    }
   ],
   "source": [
    "analyzer=sorting_analyzer(sorter, recording, output_folder=analyzer_folder)"
   ]
  },
  {
   "cell_type": "code",
   "execution_count": 13,
   "id": "8e61fd99",
   "metadata": {},
   "outputs": [
    {
     "data": {
      "application/vnd.jupyter.widget-view+json": {
       "model_id": "cfb08f223ce54af0b79bdd28a4d8eea9",
       "version_major": 2,
       "version_minor": 0
      },
      "text/plain": [
       "write_binary_recording:   0%|          | 0/5656 [00:00<?, ?it/s]"
      ]
     },
     "metadata": {},
     "output_type": "display_data"
    },
    {
     "data": {
      "application/vnd.jupyter.widget-view+json": {
       "model_id": "0063675b00a24bb2a75070ed4770e649",
       "version_major": 2,
       "version_minor": 0
      },
      "text/plain": [
       "extract PCs:   0%|          | 0/5656 [00:00<?, ?it/s]"
      ]
     },
     "metadata": {},
     "output_type": "display_data"
    },
    {
     "name": "stdout",
     "output_type": "stream",
     "text": [
      "Run:\n",
      "phy template-gui  C:\\Users\\Labcn\\sorter\\SorterPipeline\\output\\AN\\kilosort\\phy_PF11_day01\\params.py\n"
     ]
    }
   ],
   "source": [
    "exp.export_to_phy(sorting_analyzer=analyzer, \n",
    "                  remove_if_exists=True, \n",
    "                  copy_binary=True, \n",
    "                  output_folder=phy_output_folder)"
   ]
  },
  {
   "cell_type": "markdown",
   "id": "fee4c84c",
   "metadata": {},
   "source": [
    "## revision datos ariel"
   ]
  },
  {
   "cell_type": "code",
   "execution_count": null,
   "id": "2f1dbb96",
   "metadata": {},
   "outputs": [],
   "source": [
    "import spikeinterface.extractors as ex\n",
    "import spikeinterface.extractors as se\n",
    "\n",
    "# Definir la configuración del archivo\n",
    "file_path = Path(r'F:\\AL\\11-12-24\\phy_TM37_d1_test\\recording.dat')  # Ruta al archivo .dat\n",
    "num_channels = 61  # Número de canales en el archivo\n",
    "sampling_frequency = 30000  # Frecuencia de muestreo en Hz\n",
    "dtype = \"int16\"  # Tipo de datos, por ejemplo: \"int16\", \"float32\", etc.\n",
    "# channel_ids = list(range(num_channels))  # IDs de los canales (opcional)\n",
    "\n",
    "# Crear el extractor\n",
    "recording = se.BinaryRecordingExtractor(\n",
    "    file_paths=file_path,\n",
    "    sampling_frequency=sampling_frequency,\n",
    "    num_channels=num_channels,\n",
    "    dtype=dtype,\n",
    "    # channel_ids=channel_ids\n",
    ")\n",
    "\n",
    "probegroup_file = 'probes/TM24_probe.json'\n",
    "probegroup = pi.read_probeinterface(probegroup_file)\n",
    "recording = recording.set_probegroup(probegroup, group_mode='by_probe')\n",
    "\n",
    "# Imprimir detalles de la grabación\n",
    "print(f\"Número de canales: {recording.get_num_channels()}\")\n",
    "print(f\"Frecuencia de muestreo: {recording.get_sampling_frequency()} Hz\")\n",
    "print(f\"Duración: {recording.get_num_samples() / recording.get_sampling_frequency()} segundos\")\n",
    "\n",
    "#phy reader\n",
    "phy_output_folder = Path(r'F:\\AL\\11-12-24\\sorter_TM37_d1_test\\sorter_output')\n",
    "readed_sorter = ex.read_phy(phy_output_folder, exclude_cluster_groups=None)\n"
   ]
  },
  {
   "cell_type": "code",
   "execution_count": null,
   "id": "217177e2",
   "metadata": {},
   "outputs": [],
   "source": [
    "analyzer=sorting_analyzer(readed_sorter, recording, output_folder=\"\")"
   ]
  },
  {
   "cell_type": "code",
   "execution_count": null,
   "id": "c12af29e",
   "metadata": {},
   "outputs": [],
   "source": [
    "available_extension_names = analyzer.get_loaded_extension_names()\n",
    "print(available_extension_names)"
   ]
  },
  {
   "cell_type": "markdown",
   "id": "d9f26e72-5f02-405b-bc6a-e6c956704894",
   "metadata": {},
   "source": [
    "### Sorting por grupo : Automatic splitting"
   ]
  },
  {
   "cell_type": "code",
   "execution_count": null,
   "id": "3a22a06f-c7b2-4341-888a-f155a0cb5119",
   "metadata": {},
   "outputs": [],
   "source": [
    "group_sorter = ss.run_sorter_by_property(\n",
    "                sorter_name='kilosort4',\n",
    "                recording = recording,\n",
    "                grouping_property='group',\n",
    "                verbose=True,\n",
    "                folder = group_sorter_folder,\n",
    "                remove_existing_folder=True,  ## CUIDADO, SOBREESCRIBE LOS DATOS EN CASO DE HABER UNA CARPETA, PARA DESHABILITAR PONER =FALSE\n",
    "                **params_kilosort4)\n",
    "\n",
    "num_clusters, total_spikes= espigas(group_sorter)\n",
    "print(f\"Número total de clusters: {num_clusters}\")\n",
    "print(f\"Número total de espigas: {total_spikes}\")\n",
    "\n",
    "group_analyzer=sorting_analyzer(group_sorter, recording, output_folder=group_analyzer_folder)\n",
    "\n",
    "exp.export_to_phy(sorting_analyzer=group_analyzer, \n",
    "                  remove_if_exists=True, \n",
    "                  copy_binary=True, \n",
    "                  output_folder=group_phy_output_folder) "
   ]
  },
  {
   "cell_type": "markdown",
   "id": "4258b7de-89dd-4bee-baee-e69824680d32",
   "metadata": {},
   "source": [
    "### Sorting por grupo : Manual splitting (en desarrollo)"
   ]
  },
  {
   "cell_type": "markdown",
   "id": "770a2908-a11d-43d5-8652-6bdcf8eeac78",
   "metadata": {},
   "source": [
    "El enfoque implementado tiene como objetivo mejorar el rendimiento del spike sorting al segmentar el proceso por grupos de canales o regiones de la grabación. Al realizar el spike sorting por partes, se reduce significativamente la demanda de memoria y el uso de GPU en cada ejecución. Esto es especialmente útil cuando se trabaja con grabaciones de gran tamaño o cuando la capacidad de la GPU es limitada.\n",
    "\n",
    "Dividiendo el registro en grupos, el sorter puede operar en fragmentos más pequeños, lo que permite manejar mejor los recursos del sistema y evitar problemas como errores de \"out of memory\" (falta de memoria). Después de realizar el spike sorting por grupos, los resultados se combinan, permitiendo un análisis y exportación global sin sacrificar la eficiencia durante el proceso de clasificación inicial.\n",
    "\n",
    "Este enfoque balancea el uso de recursos, optimizando el uso de la GPU sin comprometer la calidad del análisis final."
   ]
  },
  {
   "cell_type": "code",
   "execution_count": null,
   "id": "0e76555d-dc7a-43f7-af64-cd1be41e235a",
   "metadata": {},
   "outputs": [],
   "source": [
    "# Dividir la grabación por grupos\n",
    "split_recording = recording.split_by(\"group\")\n",
    "\n",
    "# Diccionario para almacenar los resultados de sorting por grupo\n",
    "sortings = {}\n",
    "\n",
    "# Ejecutar el sorter en cada grupo\n",
    "for group, sub_recording in split_recording.items():\n",
    "    sorting = run_sorter(\n",
    "        sorter_name='kilosort4',\n",
    "        recording=sub_recording,  # Usar la subgrabación del grupo\n",
    "        output_folder=f\"fKS4_group{group}\"\n",
    "    )\n",
    "    sortings[group] = sorting  # Almacenar los resultados del sorter para este grupo\n",
    "\n",
    "# Combinar los resultados de sorting de todos los grupos\n",
    "combined_sorting = si.concatenate_sortings(*sortings.values())\n",
    "\n",
    "# Información de clusters y espigas para cada grupo\n",
    "num_clusters, total_spikes = espigas(combined_sorting)\n",
    "print(f\"  Número total de clusters: {num_clusters}\")\n",
    "print(f\"  Número total de espigas: {total_spikes}\")\n",
    "\n",
    "# Realizar análisis global con el sorting combinado\n",
    "combined_analyzer = sorting_analyzer(combined_sorting, recording, output_folder='combined_analyzer_folder')\n",
    "\n",
    "# Exportar los resultados globales a Phy\n",
    "exp.export_to_phy(sorting=combined_analyzer,  # Sorting combinado\n",
    "                  recording=recording,        # Grabación completa\n",
    "                  remove_if_exists=True,\n",
    "                  copy_binary=True,\n",
    "                  output_folder='combined_phy_output_folder')\n"
   ]
  },
  {
   "cell_type": "markdown",
   "id": "9a6c810e-a8dc-4cca-96de-abe8b43ea875",
   "metadata": {},
   "source": [
    "## inspeccion en grafico"
   ]
  },
  {
   "cell_type": "markdown",
   "id": "2da393de-3376-4b3a-89f3-c35f19adb28b",
   "metadata": {},
   "source": [
    "### leer un analisis"
   ]
  },
  {
   "cell_type": "code",
   "execution_count": null,
   "id": "81cbc069-2452-4ab6-8b24-6dfda650256b",
   "metadata": {},
   "outputs": [],
   "source": [
    "\n",
    "folder = 'output/AN/kilosort/analyzer_Rev9'\n",
    "analyzer = si.load_sorting_analyzer(folder)"
   ]
  },
  {
   "cell_type": "code",
   "execution_count": null,
   "id": "6b6facf1-61dd-442e-8b14-06b05ac87b94",
   "metadata": {},
   "outputs": [],
   "source": [
    "exp.export_to_phy(sorting_analyzer=analyzer, \n",
    "                  remove_if_exists=True, \n",
    "                  copy_binary=True, \n",
    "                  output_folder=Path('output/AN/kilosort/phy_rev9v2'))"
   ]
  },
  {
   "cell_type": "code",
   "execution_count": null,
   "id": "9d6d0056-9fc6-4496-b6e1-c98c5bc9ce95",
   "metadata": {},
   "outputs": [],
   "source": [
    "import spikeinterface.widgets as sw\n",
    "\n",
    "sw.plot_spikes_on_traces(sorting_analyzer= analyzer, \n",
    "                         segment_index=None, \n",
    "                         channel_ids=None, \n",
    "                         unit_ids=None, \n",
    "                         order_channel_by_depth=False, \n",
    "                         time_range=None, \n",
    "                         unit_colors=None, \n",
    "                         sparsity=None, \n",
    "                         mode='auto', \n",
    "                         return_scaled=False, \n",
    "                         cmap='RdBu', \n",
    "                         show_channel_ids=False, \n",
    "                         color_groups=False, \n",
    "                         color=None, \n",
    "                         clim=None, \n",
    "                         tile_size=512, \n",
    "                         seconds_per_row=0.2, \n",
    "                         scale=1, \n",
    "                         spike_width_ms=4, \n",
    "                         spike_height_um=20, \n",
    "                         with_colorbar=True, \n",
    "                         backend=\"ipywidgets\")\n"
   ]
  },
  {
   "cell_type": "markdown",
   "id": "7f84050f-d495-4c88-9a9c-ac8b169e4ff7",
   "metadata": {},
   "source": [
    "## Unit quality metrics"
   ]
  },
  {
   "cell_type": "code",
   "execution_count": null,
   "id": "1e6abfd0-23d2-4d20-bdc0-18653aad0e99",
   "metadata": {},
   "outputs": [],
   "source": [
    "from spikeinterface.postprocessing import compute_principal_components\n",
    "from spikeinterface.qualitymetrics import compute_quality_metrics, get_quality_metric_list"
   ]
  },
  {
   "cell_type": "code",
   "execution_count": null,
   "id": "d906c4b1-dc32-4894-bcc0-ed2382a08fca",
   "metadata": {},
   "outputs": [],
   "source": [
    "get_quality_metric_list()"
   ]
  },
  {
   "cell_type": "code",
   "execution_count": null,
   "id": "c15fe736-d828-486e-96bc-21b0f1e990a9",
   "metadata": {},
   "outputs": [],
   "source": [
    "metrics = compute_quality_metrics(analyzer, metric_names=[\"snr\", \"isi_violation\", \"nearest_neighbor\", \"firing_rate\", 'presence_ratio', 'amplitude_cutoff'])"
   ]
  },
  {
   "cell_type": "code",
   "execution_count": null,
   "id": "a4d0fcd5-eb7b-4a1f-999a-5ec2e4db3d9b",
   "metadata": {},
   "outputs": [],
   "source": [
    "print (metrics)"
   ]
  },
  {
   "cell_type": "code",
   "execution_count": null,
   "id": "e9b4dda3-81c6-4158-b568-d90645db1c53",
   "metadata": {},
   "outputs": [],
   "source": [
    "keep_mask = (metrics[\"amplitude_cutoff\"] < 1e-6)\n",
    "print(keep_mask)"
   ]
  },
  {
   "cell_type": "code",
   "execution_count": null,
   "id": "510e15fb-115d-46c5-be33-f3baa4c6d089",
   "metadata": {},
   "outputs": [],
   "source": [
    "keep_unit_ids = keep_mask[keep_mask].index.values\n",
    "keep_unit_ids = [unit_id for unit_id in keep_unit_ids]\n",
    "print(keep_unit_ids)"
   ]
  },
  {
   "cell_type": "code",
   "execution_count": null,
   "id": "e0c0af91-b06b-40bc-91d5-0e10cf0703f4",
   "metadata": {},
   "outputs": [],
   "source": [
    "from scipy.ndimage.filters import gaussian_filter1d\n",
    "plt.rcParams.update({'font.size': 14})\n",
    "\n",
    "def plot_metric(data, bins, x_axis_label, color, max_value=-1):\n",
    "    \n",
    "    h, b = np.histogram(data, bins=bins, density=True)\n",
    "\n",
    "    x = b[:-1]\n",
    "    y = gaussian_filter1d(h, 1)\n",
    "\n",
    "    plt.plot(x, y, color=color)\n",
    "    plt.xlabel(x_axis_label)\n",
    "    plt.gca().get_yaxis().set_visible(False)\n",
    "    [plt.gca().spines[loc].set_visible(False) for loc in ['right', 'top', 'left']]\n",
    "    if max_value < np.max(y) * 1.1:\n",
    "        max_value = np.max(y) * 1.1\n",
    "    plt.ylim([0, max_value])\n",
    "    \n",
    "    return max_value"
   ]
  },
  {
   "cell_type": "code",
   "execution_count": null,
   "id": "99de07c7-e341-41ab-9795-9c5516e9a888",
   "metadata": {},
   "outputs": [],
   "source": [
    "ss.get_default_sorter_params('spykingcircus2')\n"
   ]
  },
  {
   "cell_type": "code",
   "execution_count": null,
   "id": "d1e0f0a4-2a70-4840-a467-233fc57220b8",
   "metadata": {},
   "outputs": [],
   "source": [
    "sorter_spykingcircus2 = ss.run_sorter(\n",
    "                sorter_name='spykingcircus2',\n",
    "                recording = rec_fil,\n",
    "                verbose=True,\n",
    "                folder = 'output/spykingcircus2',\n",
    "                remove_existing_folder=True  ## CUIDADO, SOBREESCRIBE LOS DATOS EN CASO DE HABER UNA CARPETA, PARA DESHABILITAR PONER =FALSE\n",
    "                )"
   ]
  },
  {
   "cell_type": "markdown",
   "id": "ba8d1e02",
   "metadata": {},
   "source": [
    "## Recrear experimento (en Desarrollo)"
   ]
  },
  {
   "cell_type": "code",
   "execution_count": null,
   "id": "23003957",
   "metadata": {},
   "outputs": [],
   "source": [
    "log_file = \"logs/spike_sorting.log\"\n",
    "experiment_data = recreate_experiment(log_file)\n",
    "\n",
    "if experiment_data:\n",
    "    # Cargar grabaciones\n",
    "    recording = read_rhd(Path(experiment_data[\"rhd_files\"][0]).parent)\n",
    "    probegroup = pi.read_probeinterface(experiment_data[\"probegroup_file\"])\n",
    "    \n",
    "    # Aplicar procesamiento\n",
    "    recording = prep.bandpass_filter(recording, freq_min=500., freq_max=9000.)\n",
    "    recording = recording.set_probegroup(probegroup, group_mode='by_probe')\n",
    "    \n",
    "    if \"triggers\" in experiment_data:\n",
    "        recording = prep.remove_artifacts(\n",
    "            recording=recording,\n",
    "            list_triggers=experiment_data[\"triggers\"],\n",
    "            ms_after=500,\n",
    "            mode=\"zeros\"\n",
    "        )\n",
    "    \n",
    "    print(\"Experimento recreado exitosamente.\")\n",
    "else:\n",
    "    print(\"No se pudo recrear el experimento.\")\n"
   ]
  }
 ],
 "metadata": {
  "kernelspec": {
   "display_name": "sorter",
   "language": "python",
   "name": "python3"
  },
  "language_info": {
   "codemirror_mode": {
    "name": "ipython",
    "version": 3
   },
   "file_extension": ".py",
   "mimetype": "text/x-python",
   "name": "python",
   "nbconvert_exporter": "python",
   "pygments_lexer": "ipython3",
   "version": "3.12.4"
  }
 },
 "nbformat": 4,
 "nbformat_minor": 5
}
