{
 "cells": [
  {
   "cell_type": "code",
   "execution_count": 1,
   "id": "950f8cd9-a115-47d8-917d-0a08a354240e",
   "metadata": {},
   "outputs": [
    {
     "name": "stderr",
     "output_type": "stream",
     "text": [
      "11:31:08 [I] klustakwik KlustaKwik2 version 0.2.6\n"
     ]
    }
   ],
   "source": [
    "from waveforms import waveform_miograma, waveform_sinmiograma"
   ]
  },
  {
   "cell_type": "code",
   "execution_count": 2,
   "id": "f10c8ad2-b37c-42dc-930e-a73da8864382",
   "metadata": {},
   "outputs": [],
   "source": [
    "# Ruta principal donde se encuentran las carpetas con los resultados\n",
    "root_folder = r'D:\\ephys\\PF07'  # Cambiar a la ruta donde se encuentran tus carpetas\n",
    "\n",
    "# Lista de nombres de las carpetas que se quieren procesar\n",
    "folder_names = [\n",
    "    'Day01',\n",
    "    'Day02',\n",
    "    'Day03',\n",
    "    'Day04',\n",
    "    'Day05',\n",
    "    'Day06',\n",
    "    'Day07',\n",
    "    'Day08',\n",
    "    'Day09',\n",
    "    'Day10'\n",
    "]  # Añadir o modificar la lista de carpetas\n",
    "\n",
    "# Definir lista de canales a remover para todas las carpetas\n",
    "bad_channels = [\"A-019\", \"A-023\"]"
   ]
  },
  {
   "cell_type": "code",
   "execution_count": null,
   "id": "9762502f-28fd-4105-88da-cf018b7466e8",
   "metadata": {},
   "outputs": [],
   "source": [
    "# ejecutar para archivos con miograma\n",
    "waveform_miograma(root_folder, folder_names, bad_channels)"
   ]
  },
  {
   "cell_type": "code",
   "execution_count": null,
   "id": "625d6a32-da8e-43bc-88b5-4d1cfffbf37a",
   "metadata": {},
   "outputs": [
    {
     "name": "stdout",
     "output_type": "stream",
     "text": [
      "Procesando carpeta: Day01\n",
      "####\n",
      "# extract_waveforms() and WaveformExtractor() have been replaced by the `SortingAnalyzer` since version 0.101.0.\n",
      "# You should use `spikeinterface.create_sorting_analyzer()` instead.\n",
      "# `spikeinterface.extract_waveforms()` is now mocking the old behavior for backwards compatibility only,\n",
      "# and will be removed with version 0.103.0\n",
      "####\n"
     ]
    },
    {
     "data": {
      "application/vnd.jupyter.widget-view+json": {
       "model_id": "5025a1e0de6b420ca20bd4673a6af3e7",
       "version_major": 2,
       "version_minor": 0
      },
      "text/plain": [
       "estimate_sparsity:   0%|          | 0/7838 [00:00<?, ?it/s]"
      ]
     },
     "metadata": {},
     "output_type": "display_data"
    },
    {
     "name": "stdout",
     "output_type": "stream",
     "text": [
      "create_sorting_analyzer: recording does not have scaling to uV, forcing return_scaled=False\n"
     ]
    },
    {
     "data": {
      "application/vnd.jupyter.widget-view+json": {
       "model_id": "489780af1bf642749693d7120cb45ae7",
       "version_major": 2,
       "version_minor": 0
      },
      "text/plain": [
       "compute_waveforms:   0%|          | 0/7838 [00:00<?, ?it/s]"
      ]
     },
     "metadata": {},
     "output_type": "display_data"
    },
    {
     "name": "stdout",
     "output_type": "stream",
     "text": [
      "MockWaveformExtractor: mock the old WaveformExtractor with SortingAnalyzer: 16 channels - 16 units - 1 segments - binary_folder - sparse - has recording\n",
      "Loaded 4 extensions: random_spikes, waveforms, templates, noise_levels\n",
      "BinaryRecordingExtractor: 16 channels - 20.0kHz - 1 segments - 156,744,192 samples \n",
      "                          7,837.21s (2.18 hours) - int16 dtype - 4.67 GiB\n",
      "  file_paths: ['D:\\\\ephys\\\\PF07\\\\sorting\\\\Day01\\\\recording.dat']\n",
      "NumpySorting: 16 units - 1 segments - 20.0kHz\n",
      "(16, 70, 16)\n",
      "*********************************************************************\n",
      "Procesando carpeta: Day02\n",
      "####\n",
      "# extract_waveforms() and WaveformExtractor() have been replaced by the `SortingAnalyzer` since version 0.101.0.\n",
      "# You should use `spikeinterface.create_sorting_analyzer()` instead.\n",
      "# `spikeinterface.extract_waveforms()` is now mocking the old behavior for backwards compatibility only,\n",
      "# and will be removed with version 0.103.0\n",
      "####\n"
     ]
    },
    {
     "data": {
      "application/vnd.jupyter.widget-view+json": {
       "model_id": "6c887566612b449da96852fe5951e872",
       "version_major": 2,
       "version_minor": 0
      },
      "text/plain": [
       "estimate_sparsity:   0%|          | 0/7764 [00:00<?, ?it/s]"
      ]
     },
     "metadata": {},
     "output_type": "display_data"
    },
    {
     "name": "stdout",
     "output_type": "stream",
     "text": [
      "create_sorting_analyzer: recording does not have scaling to uV, forcing return_scaled=False\n"
     ]
    },
    {
     "data": {
      "application/vnd.jupyter.widget-view+json": {
       "model_id": "cc80aa680b344bb393751b6b57de2851",
       "version_major": 2,
       "version_minor": 0
      },
      "text/plain": [
       "compute_waveforms:   0%|          | 0/7764 [00:00<?, ?it/s]"
      ]
     },
     "metadata": {},
     "output_type": "display_data"
    },
    {
     "name": "stdout",
     "output_type": "stream",
     "text": [
      "MockWaveformExtractor: mock the old WaveformExtractor with SortingAnalyzer: 16 channels - 19 units - 1 segments - binary_folder - sparse - has recording\n",
      "Loaded 4 extensions: random_spikes, waveforms, templates, noise_levels\n",
      "BinaryRecordingExtractor: 16 channels - 20.0kHz - 1 segments - 155,267,712 samples \n",
      "                          7,763.39s (2.16 hours) - int16 dtype - 4.63 GiB\n",
      "  file_paths: ['D:\\\\ephys\\\\PF07\\\\sorting\\\\Day02\\\\recording.dat']\n",
      "NumpySorting: 19 units - 1 segments - 20.0kHz\n",
      "(19, 70, 16)\n",
      "*********************************************************************\n",
      "Procesando carpeta: Day03\n",
      "####\n",
      "# extract_waveforms() and WaveformExtractor() have been replaced by the `SortingAnalyzer` since version 0.101.0.\n",
      "# You should use `spikeinterface.create_sorting_analyzer()` instead.\n",
      "# `spikeinterface.extract_waveforms()` is now mocking the old behavior for backwards compatibility only,\n",
      "# and will be removed with version 0.103.0\n",
      "####\n"
     ]
    },
    {
     "data": {
      "application/vnd.jupyter.widget-view+json": {
       "model_id": "1e65d1570e724b2cb6e837451f244fb8",
       "version_major": 2,
       "version_minor": 0
      },
      "text/plain": [
       "estimate_sparsity:   0%|          | 0/7624 [00:00<?, ?it/s]"
      ]
     },
     "metadata": {},
     "output_type": "display_data"
    },
    {
     "name": "stdout",
     "output_type": "stream",
     "text": [
      "create_sorting_analyzer: recording does not have scaling to uV, forcing return_scaled=False\n"
     ]
    },
    {
     "data": {
      "application/vnd.jupyter.widget-view+json": {
       "model_id": "b8e78408abd446f2ae751c0517aee069",
       "version_major": 2,
       "version_minor": 0
      },
      "text/plain": [
       "compute_waveforms:   0%|          | 0/7624 [00:00<?, ?it/s]"
      ]
     },
     "metadata": {},
     "output_type": "display_data"
    },
    {
     "name": "stdout",
     "output_type": "stream",
     "text": [
      "MockWaveformExtractor: mock the old WaveformExtractor with SortingAnalyzer: 16 channels - 16 units - 1 segments - binary_folder - sparse - has recording\n",
      "Loaded 4 extensions: random_spikes, waveforms, templates, noise_levels\n",
      "BinaryRecordingExtractor: 16 channels - 20.0kHz - 1 segments - 152,477,568 samples \n",
      "                          7,623.88s (2.12 hours) - int16 dtype - 4.54 GiB\n",
      "  file_paths: ['D:\\\\ephys\\\\PF07\\\\sorting\\\\Day03\\\\recording.dat']\n",
      "NumpySorting: 16 units - 1 segments - 20.0kHz\n",
      "(16, 70, 16)\n",
      "*********************************************************************\n",
      "Procesando carpeta: Day04\n",
      "####\n",
      "# extract_waveforms() and WaveformExtractor() have been replaced by the `SortingAnalyzer` since version 0.101.0.\n",
      "# You should use `spikeinterface.create_sorting_analyzer()` instead.\n",
      "# `spikeinterface.extract_waveforms()` is now mocking the old behavior for backwards compatibility only,\n",
      "# and will be removed with version 0.103.0\n",
      "####\n"
     ]
    },
    {
     "data": {
      "application/vnd.jupyter.widget-view+json": {
       "model_id": "d9b536dd293d4e019474668592b99a69",
       "version_major": 2,
       "version_minor": 0
      },
      "text/plain": [
       "estimate_sparsity:   0%|          | 0/7926 [00:00<?, ?it/s]"
      ]
     },
     "metadata": {},
     "output_type": "display_data"
    },
    {
     "name": "stdout",
     "output_type": "stream",
     "text": [
      "create_sorting_analyzer: recording does not have scaling to uV, forcing return_scaled=False\n"
     ]
    },
    {
     "data": {
      "application/vnd.jupyter.widget-view+json": {
       "model_id": "9765f438555d46e59adeeb5209069bac",
       "version_major": 2,
       "version_minor": 0
      },
      "text/plain": [
       "compute_waveforms:   0%|          | 0/7926 [00:00<?, ?it/s]"
      ]
     },
     "metadata": {},
     "output_type": "display_data"
    },
    {
     "name": "stdout",
     "output_type": "stream",
     "text": [
      "MockWaveformExtractor: mock the old WaveformExtractor with SortingAnalyzer: 16 channels - 8 units - 1 segments - binary_folder - sparse - has recording\n",
      "Loaded 4 extensions: random_spikes, waveforms, templates, noise_levels\n",
      "BinaryRecordingExtractor: 16 channels - 20.0kHz - 1 segments - 158,500,352 samples \n",
      "                          7,925.02s (2.20 hours) - int16 dtype - 4.72 GiB\n",
      "  file_paths: ['D:\\\\ephys\\\\PF07\\\\sorting\\\\Day04\\\\recording.dat']\n",
      "NumpySorting: 8 units - 1 segments - 20.0kHz\n",
      "(8, 70, 16)\n",
      "*********************************************************************\n",
      "Procesando carpeta: Day05\n",
      "####\n",
      "# extract_waveforms() and WaveformExtractor() have been replaced by the `SortingAnalyzer` since version 0.101.0.\n",
      "# You should use `spikeinterface.create_sorting_analyzer()` instead.\n",
      "# `spikeinterface.extract_waveforms()` is now mocking the old behavior for backwards compatibility only,\n",
      "# and will be removed with version 0.103.0\n",
      "####\n",
      "Error al extraer waveforms en D:\\ephys\\PF07\\sorting\\Day05: Folder already exists D:\\ephys\\PF07\\sorting\\Day05\\waveforms! Use overwrite=True to overwrite it.. Saltando carpeta.\n",
      "Procesando carpeta: Day06\n",
      "####\n",
      "# extract_waveforms() and WaveformExtractor() have been replaced by the `SortingAnalyzer` since version 0.101.0.\n",
      "# You should use `spikeinterface.create_sorting_analyzer()` instead.\n",
      "# `spikeinterface.extract_waveforms()` is now mocking the old behavior for backwards compatibility only,\n",
      "# and will be removed with version 0.103.0\n",
      "####\n"
     ]
    },
    {
     "data": {
      "application/vnd.jupyter.widget-view+json": {
       "model_id": "ac595bec5a8442b0ae730b046c04f86a",
       "version_major": 2,
       "version_minor": 0
      },
      "text/plain": [
       "estimate_sparsity:   0%|          | 0/7398 [00:00<?, ?it/s]"
      ]
     },
     "metadata": {},
     "output_type": "display_data"
    },
    {
     "name": "stdout",
     "output_type": "stream",
     "text": [
      "create_sorting_analyzer: recording does not have scaling to uV, forcing return_scaled=False\n"
     ]
    },
    {
     "data": {
      "application/vnd.jupyter.widget-view+json": {
       "model_id": "83406af257cd4c4dbbfe73a7f53a374b",
       "version_major": 2,
       "version_minor": 0
      },
      "text/plain": [
       "compute_waveforms:   0%|          | 0/7398 [00:00<?, ?it/s]"
      ]
     },
     "metadata": {},
     "output_type": "display_data"
    },
    {
     "name": "stdout",
     "output_type": "stream",
     "text": [
      "MockWaveformExtractor: mock the old WaveformExtractor with SortingAnalyzer: 16 channels - 17 units - 1 segments - binary_folder - sparse - has recording\n",
      "Loaded 4 extensions: random_spikes, waveforms, templates, noise_levels\n",
      "BinaryRecordingExtractor: 16 channels - 20.0kHz - 1 segments - 147,946,112 samples \n",
      "                          7,397.31s (2.05 hours) - int16 dtype - 4.41 GiB\n",
      "  file_paths: ['D:\\\\ephys\\\\PF07\\\\sorting\\\\Day06\\\\recording.dat']\n",
      "NumpySorting: 17 units - 1 segments - 20.0kHz\n",
      "(17, 70, 16)\n",
      "*********************************************************************\n",
      "Procesando carpeta: Day07\n",
      "####\n",
      "# extract_waveforms() and WaveformExtractor() have been replaced by the `SortingAnalyzer` since version 0.101.0.\n",
      "# You should use `spikeinterface.create_sorting_analyzer()` instead.\n",
      "# `spikeinterface.extract_waveforms()` is now mocking the old behavior for backwards compatibility only,\n",
      "# and will be removed with version 0.103.0\n",
      "####\n"
     ]
    },
    {
     "data": {
      "application/vnd.jupyter.widget-view+json": {
       "model_id": "21d19858f46c4e6fa8e5d5fe498bf184",
       "version_major": 2,
       "version_minor": 0
      },
      "text/plain": [
       "estimate_sparsity:   0%|          | 0/7398 [00:00<?, ?it/s]"
      ]
     },
     "metadata": {},
     "output_type": "display_data"
    }
   ],
   "source": [
    "# ejecutar para archivos sin miograma\n",
    "waveform_sinmiograma(root_folder, folder_names)"
   ]
  },
  {
   "cell_type": "code",
   "execution_count": null,
   "id": "4f399dd8-9478-48cf-b5cb-c446044c53b7",
   "metadata": {},
   "outputs": [],
   "source": []
  }
 ],
 "metadata": {
  "kernelspec": {
   "display_name": "Python 3 (ipykernel)",
   "language": "python",
   "name": "python3"
  },
  "language_info": {
   "codemirror_mode": {
    "name": "ipython",
    "version": 3
   },
   "file_extension": ".py",
   "mimetype": "text/x-python",
   "name": "python",
   "nbconvert_exporter": "python",
   "pygments_lexer": "ipython3",
   "version": "3.12.4"
  }
 },
 "nbformat": 4,
 "nbformat_minor": 5
}
